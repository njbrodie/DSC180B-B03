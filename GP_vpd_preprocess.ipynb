{
 "cells": [
  {
   "cell_type": "code",
   "execution_count": 1,
   "id": "a00a23f3-f2db-4b69-b345-c63455a307bb",
   "metadata": {},
   "outputs": [],
   "source": [
    "# imports\n",
    "import xarray as xr\n",
    "import numpy as np\n",
    "import glob\n",
    "import warnings"
   ]
  },
  {
   "cell_type": "markdown",
   "id": "98521310-e0b0-4d8a-86b9-f8c6cb3c5dc1",
   "metadata": {},
   "source": [
    "Functions for preprocessing data."
   ]
  },
  {
   "cell_type": "code",
   "execution_count": 2,
   "id": "7454d4ba-2fa0-448b-b1bb-39db61682f99",
   "metadata": {},
   "outputs": [],
   "source": [
    "coarse_latitude = np.linspace(-90, 90, num = 96, endpoint=True)\n",
    "coarse_longitude = np.linspace(0, 360, num=144, endpoint=False)\n",
    "\n",
    "\n",
    "# function to reduce the gridding of latitude and longitude in half\n",
    "def coarsen_lat_lon(dataset):\n",
    "    dataset = dataset.coarsen(lat=2, lon=2).mean()\n",
    "    dataset['lat'] = coarse_latitude\n",
    "    dataset['lat'].assign_attrs(units=\"degrees\")\n",
    "    dataset['lon'] = coarse_longitude\n",
    "    dataset['lon'].assign_attrs(units=\"degrees\")\n",
    "    return dataset"
   ]
  },
  {
   "cell_type": "code",
   "execution_count": 3,
   "id": "5d690f1a-5acd-4a86-b08e-914e499c50f9",
   "metadata": {},
   "outputs": [],
   "source": [
    "# process data into desired format\n",
    "def preprocess(dataset, variable):\n",
    "    # drop bands\n",
    "    dataset = dataset.drop_dims('nbnd')\n",
    "    # coarsen data\n",
    "    dataset = coarsen_lat_lon(dataset)\n",
    "    # get yearly data, rename and reorder coordinates\n",
    "    dataset = dataset.groupby(\"time.year\").mean(\"time\")\n",
    "    dataset = dataset[['year', 'lon', 'lat', variable]]\n",
    "    dataset = dataset.rename(year=\"time\")\n",
    "    # compute data and convert to float64\n",
    "    dataset[variable] = dataset[variable].compute()\n",
    "    dataset[variable] = dataset[variable].astype(np.float64)\n",
    "    # drop attributes\n",
    "    dataset.attrs = {}\n",
    "    return dataset"
   ]
  },
  {
   "cell_type": "markdown",
   "id": "c183d1d3-2808-41fa-820c-01b7c78b6e11",
   "metadata": {},
   "source": [
    "Functions and variables to get data."
   ]
  },
  {
   "cell_type": "code",
   "execution_count": 4,
   "id": "b36f17b8-4a73-4f8b-9cb2-a99cd0aa6eb3",
   "metadata": {},
   "outputs": [],
   "source": [
    "# list scenarios and simulations\n",
    "train_scenarios = ['historical', 'ssp126', 'ssp370', 'ssp585']\n",
    "scenarios = ['historical', 'ssp126', 'ssp370', 'ssp585','ssp245']\n",
    "simulation_dict = {\n",
    "    'hist-aer': [f'r{n}i1p1f1' for n in [1, 3]],\n",
    "    'hist-GHG': [f'r{n}i1p1f1' for n in [1, 2, 3]],\n",
    "    'ssp370-lowNTCF': [f'r{n}i2p1f1' for n in [2, 3]],\n",
    "    'historical': [f'r{n}i1p1f1' for n in range(1, 12)]\n",
    "}\n",
    "\n",
    "for scenario in ['ssp126', 'ssp245', 'ssp370', 'ssp585']:\n",
    "    simulation_dict[scenario] = [f'r{n}i1p1f1' for n in [4]]"
   ]
  },
  {
   "cell_type": "code",
   "execution_count": 5,
   "id": "e0f555e0-83bf-451d-ba7c-9b271bdf2334",
   "metadata": {},
   "outputs": [
    {
     "data": {
      "text/plain": [
       "{'hist-aer': ['r1i1p1f1', 'r3i1p1f1'],\n",
       " 'hist-GHG': ['r1i1p1f1', 'r2i1p1f1', 'r3i1p1f1'],\n",
       " 'ssp370-lowNTCF': ['r2i2p1f1', 'r3i2p1f1'],\n",
       " 'historical': ['r1i1p1f1',\n",
       "  'r2i1p1f1',\n",
       "  'r3i1p1f1',\n",
       "  'r4i1p1f1',\n",
       "  'r5i1p1f1',\n",
       "  'r6i1p1f1',\n",
       "  'r7i1p1f1',\n",
       "  'r8i1p1f1',\n",
       "  'r9i1p1f1',\n",
       "  'r10i1p1f1',\n",
       "  'r11i1p1f1'],\n",
       " 'ssp126': ['r4i1p1f1'],\n",
       " 'ssp245': ['r4i1p1f1'],\n",
       " 'ssp370': ['r4i1p1f1'],\n",
       " 'ssp585': ['r4i1p1f1']}"
      ]
     },
     "execution_count": 5,
     "metadata": {},
     "output_type": "execute_result"
    }
   ],
   "source": [
    "simulation_dict"
   ]
  },
  {
   "cell_type": "code",
   "execution_count": 6,
   "id": "8e4f9b3d-4729-4869-9fec-dbd0f05a467c",
   "metadata": {},
   "outputs": [],
   "source": [
    "# get MIP associated with particular scenario\n",
    "def get_MIP(scenario):\n",
    "    if scenario == 'historical':\n",
    "        return 'CMIP'\n",
    "    elif scenario.startswith('hist'):\n",
    "        return 'DAMIP'\n",
    "    elif scenario == 'ssp370-lowNTCF':\n",
    "        return 'AerChemMIP'\n",
    "    else:\n",
    "        return 'ScenarioMIP'"
   ]
  },
  {
   "cell_type": "code",
   "execution_count": 7,
   "id": "415369ec-bc66-4844-aba2-fd67aa767056",
   "metadata": {},
   "outputs": [],
   "source": [
    "# get file based on params\n",
    "def get_file(scenario, simulation, variable):\n",
    "    mip = get_MIP(scenario)\n",
    "    return glob.glob(\n",
    "        f\"/glade/collections/cmip/CMIP6/{mip}/NCAR/CESM2/{scenario}/{simulation}/Amon/{variable}/gn/latest/*.nc\"\n",
    "    )"
   ]
  },
  {
   "cell_type": "code",
   "execution_count": 8,
   "id": "8abb57be-05c4-4eee-ace1-37ea4852bccf",
   "metadata": {},
   "outputs": [],
   "source": [
    "# get mean of all ensemble members for each scenario for a given variable\n",
    "def get_variable_data(variable,scenarios,simulation_dict):\n",
    "    var_dict = {}\n",
    "    for scenario in scenarios:\n",
    "        ensembles = []\n",
    "        # get list of all simulations available\n",
    "        simulation_list = simulation_dict[scenario]\n",
    "        for sim in simulation_list:\n",
    "            files = get_file(scenario, sim, variable)\n",
    "            with warnings.catch_warnings():\n",
    "                warnings.simplefilter(\"ignore\")\n",
    "                dataset = xr.open_mfdataset(files)\n",
    "            ensembles.append(preprocess(dataset, variable))\n",
    "        # mean over all ensemble members\n",
    "        mean_ensemble = sum(ensembles)/len(ensembles)\n",
    "        var_dict[scenario] = mean_ensemble\n",
    "    return var_dict"
   ]
  },
  {
   "cell_type": "code",
   "execution_count": null,
   "id": "93825b35-ac61-44c9-8e7b-febf90abbb2f",
   "metadata": {},
   "outputs": [],
   "source": []
  },
  {
   "cell_type": "markdown",
   "id": "2772f00d-3a8c-4d5a-86cf-8560275b7a1c",
   "metadata": {},
   "source": [
    "Get and save data."
   ]
  },
  {
   "cell_type": "code",
   "execution_count": 9,
   "id": "d307cd3d-96de-48b0-a5dc-88b78d72698c",
   "metadata": {},
   "outputs": [],
   "source": [
    "# get data\n",
    "hurs_data = get_variable_data('hurs',scenarios,simulation_dict)\n",
    "tas_data = get_variable_data('tas',scenarios,simulation_dict)"
   ]
  },
  {
   "cell_type": "code",
   "execution_count": 10,
   "id": "caf7b442-7da4-4337-8c67-b74f70b0b366",
   "metadata": {},
   "outputs": [
    {
     "data": {
      "text/plain": [
       "{'historical': <xarray.Dataset>\n",
       " Dimensions:  (time: 165, lon: 144, lat: 96)\n",
       " Coordinates:\n",
       "   * time     (time) int64 1850 1851 1852 1853 1854 ... 2010 2011 2012 2013 2014\n",
       "   * lon      (lon) float64 0.0 2.5 5.0 7.5 10.0 ... 350.0 352.5 355.0 357.5\n",
       "   * lat      (lat) float64 -90.0 -88.11 -86.21 -84.32 ... 84.32 86.21 88.11 90.0\n",
       " Data variables:\n",
       "     tas      (time, lat, lon) float64 225.2 225.1 225.1 ... 260.4 260.4 260.4,\n",
       " 'ssp126': <xarray.Dataset>\n",
       " Dimensions:  (time: 86, lon: 144, lat: 96)\n",
       " Coordinates:\n",
       "   * time     (time) int64 2015 2016 2017 2018 2019 ... 2096 2097 2098 2099 2100\n",
       "   * lon      (lon) float64 0.0 2.5 5.0 7.5 10.0 ... 350.0 352.5 355.0 357.5\n",
       "   * lat      (lat) float64 -90.0 -88.11 -86.21 -84.32 ... 84.32 86.21 88.11 90.0\n",
       " Data variables:\n",
       "     tas      (time, lat, lon) float64 227.7 227.6 227.5 ... 261.9 261.9 261.9,\n",
       " 'ssp370': <xarray.Dataset>\n",
       " Dimensions:  (time: 86, lon: 144, lat: 96)\n",
       " Coordinates:\n",
       "   * time     (time) int64 2015 2016 2017 2018 2019 ... 2096 2097 2098 2099 2100\n",
       "   * lon      (lon) float64 0.0 2.5 5.0 7.5 10.0 ... 350.0 352.5 355.0 357.5\n",
       "   * lat      (lat) float64 -90.0 -88.11 -86.21 -84.32 ... 84.32 86.21 88.11 90.0\n",
       " Data variables:\n",
       "     tas      (time, lat, lon) float64 226.7 226.6 226.6 ... 267.7 267.7 267.7,\n",
       " 'ssp585': <xarray.Dataset>\n",
       " Dimensions:  (time: 86, lon: 144, lat: 96)\n",
       " Coordinates:\n",
       "   * time     (time) int64 2015 2016 2017 2018 2019 ... 2096 2097 2098 2099 2100\n",
       "   * lon      (lon) float64 0.0 2.5 5.0 7.5 10.0 ... 350.0 352.5 355.0 357.5\n",
       "   * lat      (lat) float64 -90.0 -88.11 -86.21 -84.32 ... 84.32 86.21 88.11 90.0\n",
       " Data variables:\n",
       "     tas      (time, lat, lon) float64 226.7 226.6 226.5 ... 272.8 272.8 272.8,\n",
       " 'ssp245': <xarray.Dataset>\n",
       " Dimensions:  (time: 86, lon: 144, lat: 96)\n",
       " Coordinates:\n",
       "   * time     (time) int64 2015 2016 2017 2018 2019 ... 2096 2097 2098 2099 2100\n",
       "   * lon      (lon) float64 0.0 2.5 5.0 7.5 10.0 ... 350.0 352.5 355.0 357.5\n",
       "   * lat      (lat) float64 -90.0 -88.11 -86.21 -84.32 ... 84.32 86.21 88.11 90.0\n",
       " Data variables:\n",
       "     tas      (time, lat, lon) float64 227.8 227.7 227.6 ... 264.3 264.3 264.3}"
      ]
     },
     "execution_count": 10,
     "metadata": {},
     "output_type": "execute_result"
    }
   ],
   "source": [
    "tas_data"
   ]
  },
  {
   "cell_type": "code",
   "execution_count": 11,
   "id": "528cf166-7d6b-42c3-911a-08b380858258",
   "metadata": {},
   "outputs": [],
   "source": [
    "# save data\n",
    "for scenario in scenarios:\n",
    "    hurs_data[scenario].to_netcdf(f'hurs_{scenario}.nc')\n",
    "for scenario in scenarios:\n",
    "    tas_data[scenario].to_netcdf(f'tas_{scenario}.nc')"
   ]
  },
  {
   "cell_type": "code",
   "execution_count": 12,
   "id": "e60955c5-cbee-4d39-a737-32c3fb8729a6",
   "metadata": {},
   "outputs": [],
   "source": [
    "# tas data is in Kelvin\n",
    "# hurs data is in % (may be over 100%)"
   ]
  },
  {
   "cell_type": "code",
   "execution_count": null,
   "id": "e15e79a9-b6eb-4976-b6d3-829ccb20cfcb",
   "metadata": {},
   "outputs": [],
   "source": []
  },
  {
   "cell_type": "code",
   "execution_count": null,
   "id": "e81d521b-eeab-4389-86c0-71b8639a4f0d",
   "metadata": {},
   "outputs": [],
   "source": []
  }
 ],
 "metadata": {
  "kernelspec": {
   "display_name": "Python 3 (ipykernel)",
   "language": "python",
   "name": "python3"
  },
  "language_info": {
   "codemirror_mode": {
    "name": "ipython",
    "version": 3
   },
   "file_extension": ".py",
   "mimetype": "text/x-python",
   "name": "python",
   "nbconvert_exporter": "python",
   "pygments_lexer": "ipython3",
   "version": "3.10.13"
  }
 },
 "nbformat": 4,
 "nbformat_minor": 5
}
