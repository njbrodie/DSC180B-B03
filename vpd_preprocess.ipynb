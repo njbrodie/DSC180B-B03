{
 "cells": [
  {
   "cell_type": "code",
   "execution_count": 43,
   "id": "a00a23f3-f2db-4b69-b345-c63455a307bb",
   "metadata": {},
   "outputs": [],
   "source": [
    "# imports\n",
    "import xarray as xr\n",
    "import numpy as np\n",
    "import glob\n",
    "import warnings"
   ]
  },
  {
   "cell_type": "markdown",
   "id": "98521310-e0b0-4d8a-86b9-f8c6cb3c5dc1",
   "metadata": {},
   "source": [
    "Functions for preprocessing data."
   ]
  },
  {
   "cell_type": "code",
   "execution_count": 2,
   "id": "7454d4ba-2fa0-448b-b1bb-39db61682f99",
   "metadata": {},
   "outputs": [],
   "source": [
    "coarse_latitude = np.linspace(-90, 90, num = 96, endpoint=True)\n",
    "coarse_longitude = np.linspace(0, 360, num=144, endpoint=False)\n",
    "\n",
    "\n",
    "# function to reduce the gridding of latitude and longitude in half\n",
    "def coarsen_lat_lon(dataset):\n",
    "    dataset = dataset.coarsen(lat=2, lon=2).mean()\n",
    "    dataset['lat'] = coarse_latitude\n",
    "    dataset['lat'].assign_attrs(units=\"degrees\")\n",
    "    dataset['lon'] = coarse_longitude\n",
    "    dataset['lon'].assign_attrs(units=\"degrees\")\n",
    "    return dataset"
   ]
  },
  {
   "cell_type": "code",
   "execution_count": 3,
   "id": "5d690f1a-5acd-4a86-b08e-914e499c50f9",
   "metadata": {},
   "outputs": [],
   "source": [
    "# process data into desired format\n",
    "def preprocess(dataset, variable):\n",
    "    # drop bands\n",
    "    dataset = dataset.drop_dims('nbnd')\n",
    "    # coarsen data\n",
    "    dataset = coarsen_lat_lon(dataset)\n",
    "    # get yearly data, rename and reorder coordinates\n",
    "    dataset = dataset.groupby(\"time.year\").mean(\"time\")\n",
    "    dataset = dataset[['year', 'lon', 'lat', variable]]\n",
    "    dataset = dataset.rename(year=\"time\")\n",
    "    # compute data and convert to float64\n",
    "    dataset[variable] = dataset[variable].compute()\n",
    "    dataset[variable] = dataset[variable].astype(np.float64)\n",
    "    # drop attributes\n",
    "    dataset.attrs = {}\n",
    "    return dataset"
   ]
  },
  {
   "cell_type": "markdown",
   "id": "c183d1d3-2808-41fa-820c-01b7c78b6e11",
   "metadata": {},
   "source": [
    "Functions and variables to get data."
   ]
  },
  {
   "cell_type": "code",
   "execution_count": 4,
   "id": "6c33c41a-4132-4e9c-8131-324c6f54d563",
   "metadata": {},
   "outputs": [],
   "source": [
    "# list scenarios and simulations\n",
    "scenarios = ['ssp126', 'ssp245', 'ssp370', 'ssp585', 'historical']\n",
    "simulations = ['r10i1p1f1', 'r11i1p1f1', 'r4i1p1f1']\n",
    "# simulation list for historical scenario only\n",
    "historical_simulations = [f'r{n}i1p1f1' for n in range(1, 12)]"
   ]
  },
  {
   "cell_type": "code",
   "execution_count": 5,
   "id": "8e4f9b3d-4729-4869-9fec-dbd0f05a467c",
   "metadata": {},
   "outputs": [],
   "source": [
    "# get MIP associated with particular scenario\n",
    "def get_MIP(scenario):\n",
    "    if scenario == 'historical':\n",
    "        return 'CMIP'\n",
    "    else:\n",
    "        return 'ScenarioMIP'"
   ]
  },
  {
   "cell_type": "code",
   "execution_count": 6,
   "id": "415369ec-bc66-4844-aba2-fd67aa767056",
   "metadata": {},
   "outputs": [],
   "source": [
    "# get file based on params\n",
    "def get_file(scenario, simulation, variable):\n",
    "    mip = get_MIP(scenario)\n",
    "    return glob.glob(\n",
    "        f\"/glade/collections/cmip/CMIP6/{mip}/NCAR/CESM2/{scenario}/{simulation}/Amon/{variable}/gn/latest/*.nc\"\n",
    "    )"
   ]
  },
  {
   "cell_type": "code",
   "execution_count": 7,
   "id": "8abb57be-05c4-4eee-ace1-37ea4852bccf",
   "metadata": {},
   "outputs": [],
   "source": [
    "# get mean of all ensemble members for each scenario for a given variable\n",
    "def get_variable_data(variable):\n",
    "    var_dict = {}\n",
    "    for scenario in scenarios:\n",
    "        ensembles = []\n",
    "        # get list of all simulations available\n",
    "        if scenario == 'historical':\n",
    "            simulation_list = historical_simulations\n",
    "        else:\n",
    "            simulation_list = simulations\n",
    "        for sim in simulation_list:\n",
    "            files = get_file(scenario, sim, variable)\n",
    "            with warnings.catch_warnings():\n",
    "                warnings.simplefilter(\"ignore\")\n",
    "                dataset = xr.open_mfdataset(files)\n",
    "            ensembles.append(preprocess(dataset, variable))\n",
    "        # mean over all ensemble members\n",
    "        mean_ensemble = sum(ensembles)/len(ensembles)\n",
    "        var_dict[scenario] = mean_ensemble\n",
    "    return var_dict"
   ]
  },
  {
   "cell_type": "markdown",
   "id": "2772f00d-3a8c-4d5a-86cf-8560275b7a1c",
   "metadata": {},
   "source": [
    "Get and save data."
   ]
  },
  {
   "cell_type": "code",
   "execution_count": 8,
   "id": "d307cd3d-96de-48b0-a5dc-88b78d72698c",
   "metadata": {},
   "outputs": [],
   "source": [
    "# get data\n",
    "hurs_data = get_variable_data('hurs')\n",
    "tas_data = get_variable_data('tas')"
   ]
  },
  {
   "cell_type": "code",
   "execution_count": 44,
   "id": "528cf166-7d6b-42c3-911a-08b380858258",
   "metadata": {},
   "outputs": [],
   "source": [
    "# save data\n",
    "for scenario in scenarios:\n",
    "    hurs_data[scenario].to_netcdf(f'hurs_{scenario}.nc')\n",
    "for scenario in scenarios:\n",
    "    tas_data[scenario].to_netcdf(f'tas_{scenario}.nc')"
   ]
  },
  {
   "cell_type": "code",
   "execution_count": null,
   "id": "e60955c5-cbee-4d39-a737-32c3fb8729a6",
   "metadata": {},
   "outputs": [],
   "source": [
    "# tas data is in Kelvin\n",
    "# hurs data is in % (may be over 100%)"
   ]
  }
 ],
 "metadata": {
  "kernelspec": {
   "display_name": "Python 3 (ipykernel)",
   "language": "python",
   "name": "python3"
  },
  "language_info": {
   "codemirror_mode": {
    "name": "ipython",
    "version": 3
   },
   "file_extension": ".py",
   "mimetype": "text/x-python",
   "name": "python",
   "nbconvert_exporter": "python",
   "pygments_lexer": "ipython3",
   "version": "3.10.13"
  }
 },
 "nbformat": 4,
 "nbformat_minor": 5
}
